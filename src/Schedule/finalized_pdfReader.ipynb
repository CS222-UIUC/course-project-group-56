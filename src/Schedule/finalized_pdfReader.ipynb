{
 "cells": [
  {
   "cell_type": "code",
   "execution_count": 1,
   "metadata": {},
   "outputs": [],
   "source": [
    "import pandas as pd\n",
    "import tabula\n",
    "#pip install tabula-py"
   ]
  },
  {
   "cell_type": "code",
   "execution_count": 2,
   "metadata": {},
   "outputs": [],
   "source": [
    "def convert_pdf_to_csv(filename):\n",
    "    df = tabula.read_pdf(filename, pages='all')[0]\n",
    "    tabula.convert_into(filename, \"updated_df\", output_format=\"csv\", pages='all')\n",
    "    return df"
   ]
  },
  {
   "cell_type": "code",
   "execution_count": 3,
   "metadata": {},
   "outputs": [
    {
     "data": {
      "text/html": [
       "<div>\n",
       "<style scoped>\n",
       "    .dataframe tbody tr th:only-of-type {\n",
       "        vertical-align: middle;\n",
       "    }\n",
       "\n",
       "    .dataframe tbody tr th {\n",
       "        vertical-align: top;\n",
       "    }\n",
       "\n",
       "    .dataframe thead th {\n",
       "        text-align: right;\n",
       "    }\n",
       "</style>\n",
       "<table border=\"1\" class=\"dataframe\">\n",
       "  <thead>\n",
       "    <tr style=\"text-align: right;\">\n",
       "      <th></th>\n",
       "      <th>course</th>\n",
       "      <th>id</th>\n",
       "      <th>date_time_prof_location</th>\n",
       "    </tr>\n",
       "  </thead>\n",
       "  <tbody>\n",
       "    <tr>\n",
       "      <th>4</th>\n",
       "      <td>Discrete Structures</td>\n",
       "      <td>50094</td>\n",
       "      <td>01/18/2022 - 05/04/2022\\rTuesday, Thursday\\r12...</td>\n",
       "    </tr>\n",
       "    <tr>\n",
       "      <th>5</th>\n",
       "      <td>Discrete Structures</td>\n",
       "      <td>51089</td>\n",
       "      <td>01/18/2022 - 05/04/2022\\rFriday\\r02:00 PM - 02...</td>\n",
       "    </tr>\n",
       "    <tr>\n",
       "      <th>6</th>\n",
       "      <td>Statistics and Probability I</td>\n",
       "      <td>60237</td>\n",
       "      <td>01/18/2022 - 05/04/2022\\rMonday, Wednesday, Fr...</td>\n",
       "    </tr>\n",
       "    <tr>\n",
       "      <th>7</th>\n",
       "      <td>Statistics and Probability I</td>\n",
       "      <td>60241</td>\n",
       "      <td>01/18/2022 - 05/04/2022\\rThursday\\r11:00 AM - ...</td>\n",
       "    </tr>\n",
       "    <tr>\n",
       "      <th>8</th>\n",
       "      <td>Nature and American Culture</td>\n",
       "      <td>61458</td>\n",
       "      <td>01/18/2022 - 03/11/2022\\rSantos, Carla\\rJeong,...</td>\n",
       "    </tr>\n",
       "    <tr>\n",
       "      <th>9</th>\n",
       "      <td>Intro to Computer Science II</td>\n",
       "      <td>71604</td>\n",
       "      <td>01/18/2022 - 05/04/2022\\rFriday\\r10:30 AM - 11...</td>\n",
       "    </tr>\n",
       "    <tr>\n",
       "      <th>10</th>\n",
       "      <td>Indian Cinema in Context</td>\n",
       "      <td>65011</td>\n",
       "      <td>01/18/2022 - 05/04/2022\\rMonday, Wednesday\\r02...</td>\n",
       "    </tr>\n",
       "    <tr>\n",
       "      <th>11</th>\n",
       "      <td>Intro to Computer Science II</td>\n",
       "      <td>71594</td>\n",
       "      <td>01/18/2022 - 05/04/2022\\rNowak, Michael</td>\n",
       "    </tr>\n",
       "  </tbody>\n",
       "</table>\n",
       "</div>"
      ],
      "text/plain": [
       "                          course     id  \\\n",
       "4            Discrete Structures  50094   \n",
       "5            Discrete Structures  51089   \n",
       "6   Statistics and Probability I  60237   \n",
       "7   Statistics and Probability I  60241   \n",
       "8    Nature and American Culture  61458   \n",
       "9   Intro to Computer Science II  71604   \n",
       "10      Indian Cinema in Context  65011   \n",
       "11  Intro to Computer Science II  71594   \n",
       "\n",
       "                              date_time_prof_location  \n",
       "4   01/18/2022 - 05/04/2022\\rTuesday, Thursday\\r12...  \n",
       "5   01/18/2022 - 05/04/2022\\rFriday\\r02:00 PM - 02...  \n",
       "6   01/18/2022 - 05/04/2022\\rMonday, Wednesday, Fr...  \n",
       "7   01/18/2022 - 05/04/2022\\rThursday\\r11:00 AM - ...  \n",
       "8   01/18/2022 - 03/11/2022\\rSantos, Carla\\rJeong,...  \n",
       "9   01/18/2022 - 05/04/2022\\rFriday\\r10:30 AM - 11...  \n",
       "10  01/18/2022 - 05/04/2022\\rMonday, Wednesday\\r02...  \n",
       "11            01/18/2022 - 05/04/2022\\rNowak, Michael  "
      ]
     },
     "execution_count": 3,
     "metadata": {},
     "output_type": "execute_result"
    }
   ],
   "source": [
    "dfs = convert_pdf_to_csv(\"schedule.pdf\")[4:-1]\n",
    "dates_times = dfs.iloc[:,[0,3,4]]\n",
    "dates_times = dates_times.rename(columns={'Unnamed: 0':'course', 'mpaign':'id', 'Unnamed: 2':'date_time_prof_location'})\n",
    "dates_times"
   ]
  },
  {
   "cell_type": "code",
   "execution_count": 4,
   "metadata": {},
   "outputs": [],
   "source": [
    "def get_info(dates_times, i):\n",
    "    return dates_times.at[i + 4 , 'date_time_prof_location']"
   ]
  },
  {
   "cell_type": "code",
   "execution_count": 5,
   "metadata": {},
   "outputs": [],
   "source": [
    "def get_course(dates_times, i):\n",
    "    return dates_times.at[i+4, 'course']"
   ]
  },
  {
   "cell_type": "code",
   "execution_count": 6,
   "metadata": {},
   "outputs": [],
   "source": [
    "def get_CRN(dates_times, i) :\n",
    "    return dates_times.at[i+4,'id']"
   ]
  },
  {
   "cell_type": "code",
   "execution_count": 7,
   "metadata": {},
   "outputs": [
    {
     "data": {
      "text/plain": [
       "'01/18/2022 - 05/04/2022\\rNowak, Michael'"
      ]
     },
     "execution_count": 7,
     "metadata": {},
     "output_type": "execute_result"
    }
   ],
   "source": [
    "single_value = get_info(dates_times, 7)\n",
    "single_value"
   ]
  },
  {
   "cell_type": "code",
   "execution_count": 23,
   "metadata": {},
   "outputs": [],
   "source": [
    "#Loop through data frame and split date/time/location and set it\n",
    "# time_column = dates_times[\"date_time_prof_location\"]\n",
    "# time_column\n",
    "def clean_frame(dates_times):\n",
    "    course_info = pd.DataFrame(columns = ['Course', 'CRN', 'Days', 'Time', 'Location'])\n",
    "    for row in range(len(dates_times)):\n",
    "        value = get_info(dates_times, row)\n",
    "        arr = value.split(\"\\r\")\n",
    "        if(len(arr) >= 5):\n",
    "            course = get_course(dates_times, row)\n",
    "            crn = get_CRN(dates_times,row)\n",
    "            days = arr[1]\n",
    "            time = arr[2]\n",
    "            loc = arr[3]\n",
    "            if(loc[0:3] == \"Urb\"):\n",
    "                course_info = course_info.append({'Course' : course, 'CRN': crn, 'Days' : arr[1] , 'Time' : time, 'Location' : loc}, ignore_index = True)\n",
    "\n",
    "    return course_info\n",
    "\n",
    "    "
   ]
  },
  {
   "cell_type": "code",
   "execution_count": 24,
   "metadata": {},
   "outputs": [],
   "source": [
    "def PDFtoDF_clean(filename) :\n",
    "    unfiltered_frame = convert_pdf_to_csv(filename)[4:-1]\n",
    "    info = unfiltered_frame.iloc[:,[0,3,4]]\n",
    "    info = info.rename(columns={'Unnamed: 0':'course', 'mpaign':'id', 'Unnamed: 2':'date_time_prof_location'})\n",
    "    cleaned = clean_frame(info)\n",
    "    return cleaned\n",
    "    "
   ]
  },
  {
   "cell_type": "code",
   "execution_count": 25,
   "metadata": {},
   "outputs": [
    {
     "data": {
      "text/html": [
       "<div>\n",
       "<style scoped>\n",
       "    .dataframe tbody tr th:only-of-type {\n",
       "        vertical-align: middle;\n",
       "    }\n",
       "\n",
       "    .dataframe tbody tr th {\n",
       "        vertical-align: top;\n",
       "    }\n",
       "\n",
       "    .dataframe thead th {\n",
       "        text-align: right;\n",
       "    }\n",
       "</style>\n",
       "<table border=\"1\" class=\"dataframe\">\n",
       "  <thead>\n",
       "    <tr style=\"text-align: right;\">\n",
       "      <th></th>\n",
       "      <th>Course</th>\n",
       "      <th>CRN</th>\n",
       "      <th>Days</th>\n",
       "      <th>Time</th>\n",
       "      <th>Location</th>\n",
       "    </tr>\n",
       "  </thead>\n",
       "  <tbody>\n",
       "    <tr>\n",
       "      <th>0</th>\n",
       "      <td>Discrete Structures</td>\n",
       "      <td>50094</td>\n",
       "      <td>Tuesday, Thursday</td>\n",
       "      <td>12:30 PM - 01:45 PM</td>\n",
       "      <td>Urbana-Champaign, Campus Instructional Facilit...</td>\n",
       "    </tr>\n",
       "    <tr>\n",
       "      <th>1</th>\n",
       "      <td>Discrete Structures</td>\n",
       "      <td>51089</td>\n",
       "      <td>Friday</td>\n",
       "      <td>02:00 PM - 02:50 PM</td>\n",
       "      <td>Urbana-Champaign, Campus Instructional Facilit...</td>\n",
       "    </tr>\n",
       "    <tr>\n",
       "      <th>2</th>\n",
       "      <td>Statistics and Probability I</td>\n",
       "      <td>60237</td>\n",
       "      <td>Monday, Wednesday, Friday</td>\n",
       "      <td>12:00 PM - 12:50 PM</td>\n",
       "      <td>Urbana-Champaign, Mumford Hall, 103</td>\n",
       "    </tr>\n",
       "    <tr>\n",
       "      <th>3</th>\n",
       "      <td>Statistics and Probability I</td>\n",
       "      <td>60241</td>\n",
       "      <td>Thursday</td>\n",
       "      <td>11:00 AM - 11:50 AM</td>\n",
       "      <td>Urbana-Champaign, Lincoln Hall, 1027</td>\n",
       "    </tr>\n",
       "    <tr>\n",
       "      <th>4</th>\n",
       "      <td>Intro to Computer Science II</td>\n",
       "      <td>71604</td>\n",
       "      <td>Friday</td>\n",
       "      <td>10:30 AM - 11:50 AM</td>\n",
       "      <td>Urbana-Champaign, Siebel Center for Comp Sci, ...</td>\n",
       "    </tr>\n",
       "    <tr>\n",
       "      <th>5</th>\n",
       "      <td>Indian Cinema in Context</td>\n",
       "      <td>65011</td>\n",
       "      <td>Monday, Wednesday</td>\n",
       "      <td>02:00 PM - 03:20 PM</td>\n",
       "      <td>Urbana-Champaign, Campus Instructional Facilit...</td>\n",
       "    </tr>\n",
       "  </tbody>\n",
       "</table>\n",
       "</div>"
      ],
      "text/plain": [
       "                         Course    CRN                       Days  \\\n",
       "0           Discrete Structures  50094          Tuesday, Thursday   \n",
       "1           Discrete Structures  51089                     Friday   \n",
       "2  Statistics and Probability I  60237  Monday, Wednesday, Friday   \n",
       "3  Statistics and Probability I  60241                   Thursday   \n",
       "4  Intro to Computer Science II  71604                     Friday   \n",
       "5      Indian Cinema in Context  65011          Monday, Wednesday   \n",
       "\n",
       "                  Time                                           Location  \n",
       "0  12:30 PM - 01:45 PM  Urbana-Champaign, Campus Instructional Facilit...  \n",
       "1  02:00 PM - 02:50 PM  Urbana-Champaign, Campus Instructional Facilit...  \n",
       "2  12:00 PM - 12:50 PM                Urbana-Champaign, Mumford Hall, 103  \n",
       "3  11:00 AM - 11:50 AM               Urbana-Champaign, Lincoln Hall, 1027  \n",
       "4  10:30 AM - 11:50 AM  Urbana-Champaign, Siebel Center for Comp Sci, ...  \n",
       "5  02:00 PM - 03:20 PM  Urbana-Champaign, Campus Instructional Facilit...  "
      ]
     },
     "execution_count": 25,
     "metadata": {},
     "output_type": "execute_result"
    }
   ],
   "source": [
    "final = PDFtoDF_clean(\"schedule.pdf\")\n",
    "final"
   ]
  },
  {
   "cell_type": "code",
   "execution_count": 29,
   "metadata": {},
   "outputs": [
    {
     "name": "stdout",
     "output_type": "stream",
     "text": [
      "Hi! You have Statistics and Probability I from 12:00 PM - 12:50 PM at Urbana-Champaign, Mumford Hall, 103\n"
     ]
    }
   ],
   "source": [
    "#Example Output CHECK\n",
    "def SampleOutput(final):\n",
    "    print(\"Hi! You have \" + final.at[2, 'Course'] + \" from \" + final.at[2, 'Time'] + \" at \" + final.at[2, 'Location'])\n",
    "\n",
    "SampleOutput(final)"
   ]
  },
  {
   "cell_type": "code",
   "execution_count": 32,
   "metadata": {},
   "outputs": [
    {
     "data": {
      "text/html": [
       "<div>\n",
       "<style scoped>\n",
       "    .dataframe tbody tr th:only-of-type {\n",
       "        vertical-align: middle;\n",
       "    }\n",
       "\n",
       "    .dataframe tbody tr th {\n",
       "        vertical-align: top;\n",
       "    }\n",
       "\n",
       "    .dataframe thead th {\n",
       "        text-align: right;\n",
       "    }\n",
       "</style>\n",
       "<table border=\"1\" class=\"dataframe\">\n",
       "  <thead>\n",
       "    <tr style=\"text-align: right;\">\n",
       "      <th></th>\n",
       "      <th>Course</th>\n",
       "      <th>CRN</th>\n",
       "      <th>Days</th>\n",
       "      <th>Time</th>\n",
       "      <th>Location</th>\n",
       "    </tr>\n",
       "  </thead>\n",
       "  <tbody>\n",
       "    <tr>\n",
       "      <th>0</th>\n",
       "      <td>Data Structures</td>\n",
       "      <td>35917</td>\n",
       "      <td>Monday, Wednesday, Friday</td>\n",
       "      <td>11:00 AM - 11:50 AM</td>\n",
       "      <td>Urbana-Champaign, Foellinger Auditorium, AUD</td>\n",
       "    </tr>\n",
       "    <tr>\n",
       "      <th>1</th>\n",
       "      <td>Data Structures</td>\n",
       "      <td>35926</td>\n",
       "      <td>Thursday</td>\n",
       "      <td>11:00 AM - 12:50 PM</td>\n",
       "      <td>Urbana-Champaign, Sidney Lu Mech Engr Bldg, 3101</td>\n",
       "    </tr>\n",
       "    <tr>\n",
       "      <th>2</th>\n",
       "      <td>Statistics and Probability II</td>\n",
       "      <td>58798</td>\n",
       "      <td>Tuesday, Thursday</td>\n",
       "      <td>02:00 PM - 03:20 PM</td>\n",
       "      <td>Urbana-Champaign, Lincoln Hall, 1090</td>\n",
       "    </tr>\n",
       "    <tr>\n",
       "      <th>3</th>\n",
       "      <td>Software Design Lab</td>\n",
       "      <td>74484</td>\n",
       "      <td>Friday</td>\n",
       "      <td>02:00 PM - 02:50 PM</td>\n",
       "      <td>Urbana-Champaign, Campus Instructional Facilit...</td>\n",
       "    </tr>\n",
       "    <tr>\n",
       "      <th>4</th>\n",
       "      <td>Linear Algebra with Computational Applications</td>\n",
       "      <td>74605</td>\n",
       "      <td>Monday, Wednesday</td>\n",
       "      <td>09:00 AM - 09:50 AM</td>\n",
       "      <td>Urbana-Champaign, Campus Instructional Facilit...</td>\n",
       "    </tr>\n",
       "    <tr>\n",
       "      <th>5</th>\n",
       "      <td>Linear Algebra with Computational Applications</td>\n",
       "      <td>75433</td>\n",
       "      <td>Tuesday</td>\n",
       "      <td>12:00 PM - 12:50 PM</td>\n",
       "      <td>Urbana-Champaign, Altgeld Hall, 141</td>\n",
       "    </tr>\n",
       "  </tbody>\n",
       "</table>\n",
       "</div>"
      ],
      "text/plain": [
       "                                           Course    CRN  \\\n",
       "0                                 Data Structures  35917   \n",
       "1                                 Data Structures  35926   \n",
       "2                   Statistics and Probability II  58798   \n",
       "3                             Software Design Lab  74484   \n",
       "4  Linear Algebra with Computational Applications  74605   \n",
       "5  Linear Algebra with Computational Applications  75433   \n",
       "\n",
       "                        Days                 Time  \\\n",
       "0  Monday, Wednesday, Friday  11:00 AM - 11:50 AM   \n",
       "1                   Thursday  11:00 AM - 12:50 PM   \n",
       "2          Tuesday, Thursday  02:00 PM - 03:20 PM   \n",
       "3                     Friday  02:00 PM - 02:50 PM   \n",
       "4          Monday, Wednesday  09:00 AM - 09:50 AM   \n",
       "5                    Tuesday  12:00 PM - 12:50 PM   \n",
       "\n",
       "                                            Location  \n",
       "0       Urbana-Champaign, Foellinger Auditorium, AUD  \n",
       "1   Urbana-Champaign, Sidney Lu Mech Engr Bldg, 3101  \n",
       "2               Urbana-Champaign, Lincoln Hall, 1090  \n",
       "3  Urbana-Champaign, Campus Instructional Facilit...  \n",
       "4  Urbana-Champaign, Campus Instructional Facilit...  \n",
       "5                Urbana-Champaign, Altgeld Hall, 141  "
      ]
     },
     "execution_count": 32,
     "metadata": {},
     "output_type": "execute_result"
    }
   ],
   "source": [
    "# TESTING WITH ANOTHER PERSON'S SCHEDULE\n",
    "test2 = PDFtoDF_clean(\"Test Schedule 2.pdf\")\n",
    "test2\n"
   ]
  },
  {
   "cell_type": "code",
   "execution_count": 33,
   "metadata": {},
   "outputs": [
    {
     "name": "stdout",
     "output_type": "stream",
     "text": [
      "Hi! You have Statistics and Probability II from 02:00 PM - 03:20 PM at Urbana-Champaign, Lincoln Hall, 1090\n"
     ]
    }
   ],
   "source": [
    "SampleOutput(test2)"
   ]
  },
  {
   "cell_type": "code",
   "execution_count": null,
   "metadata": {},
   "outputs": [],
   "source": []
  }
 ],
 "metadata": {
  "kernelspec": {
   "display_name": "Python 3",
   "language": "python",
   "name": "python3"
  },
  "language_info": {
   "codemirror_mode": {
    "name": "ipython",
    "version": 3
   },
   "file_extension": ".py",
   "mimetype": "text/x-python",
   "name": "python",
   "nbconvert_exporter": "python",
   "pygments_lexer": "ipython3",
   "version": "3.8.8"
  },
  "vscode": {
   "interpreter": {
    "hash": "31f2aee4e71d21fbe5cf8b01ff0e069b9275f58929596ceb00d14d90e3e16cd6"
   }
  }
 },
 "nbformat": 4,
 "nbformat_minor": 2
}
