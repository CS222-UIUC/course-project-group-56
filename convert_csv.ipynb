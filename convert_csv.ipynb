{
 "cells": [
  {
   "cell_type": "code",
   "execution_count": null,
   "metadata": {},
   "outputs": [],
   "source": [
    "import pandas as pd\n",
    "import tabula\n",
    "#pip install tabula-py"
   ]
  },
  {
   "cell_type": "code",
   "execution_count": 5,
   "metadata": {},
   "outputs": [],
   "source": [
    "def convert_pdf_to_csv(filename):\n",
    "    df = tabula.read_pdf(filename, pages='all')[0]\n",
    "    tabula.convert_into(filename, \"updated_df\", output_format=\"csv\", pages='all')\n",
    "    return df"
   ]
  },
  {
   "cell_type": "code",
   "execution_count": 29,
   "metadata": {},
   "outputs": [
    {
     "data": {
      "text/html": [
       "<div>\n",
       "<style scoped>\n",
       "    .dataframe tbody tr th:only-of-type {\n",
       "        vertical-align: middle;\n",
       "    }\n",
       "\n",
       "    .dataframe tbody tr th {\n",
       "        vertical-align: top;\n",
       "    }\n",
       "\n",
       "    .dataframe thead th {\n",
       "        text-align: right;\n",
       "    }\n",
       "</style>\n",
       "<table border=\"1\" class=\"dataframe\">\n",
       "  <thead>\n",
       "    <tr style=\"text-align: right;\">\n",
       "      <th></th>\n",
       "      <th>course</th>\n",
       "      <th>id</th>\n",
       "      <th>date_time_prof_location</th>\n",
       "    </tr>\n",
       "  </thead>\n",
       "  <tbody>\n",
       "    <tr>\n",
       "      <th>4</th>\n",
       "      <td>Discrete Structures</td>\n",
       "      <td>50094</td>\n",
       "      <td>01/18/2022 - 05/04/2022\\rTuesday, Thursday\\r12...</td>\n",
       "    </tr>\n",
       "    <tr>\n",
       "      <th>5</th>\n",
       "      <td>Discrete Structures</td>\n",
       "      <td>51089</td>\n",
       "      <td>01/18/2022 - 05/04/2022\\rFriday\\r02:00 PM - 02...</td>\n",
       "    </tr>\n",
       "    <tr>\n",
       "      <th>6</th>\n",
       "      <td>Statistics and Probability I</td>\n",
       "      <td>60237</td>\n",
       "      <td>01/18/2022 - 05/04/2022\\rMonday, Wednesday, Fr...</td>\n",
       "    </tr>\n",
       "    <tr>\n",
       "      <th>7</th>\n",
       "      <td>Statistics and Probability I</td>\n",
       "      <td>60241</td>\n",
       "      <td>01/18/2022 - 05/04/2022\\rThursday\\r11:00 AM - ...</td>\n",
       "    </tr>\n",
       "    <tr>\n",
       "      <th>8</th>\n",
       "      <td>Nature and American Culture</td>\n",
       "      <td>61458</td>\n",
       "      <td>01/18/2022 - 03/11/2022\\rSantos, Carla\\rJeong,...</td>\n",
       "    </tr>\n",
       "    <tr>\n",
       "      <th>9</th>\n",
       "      <td>Intro to Computer Science II</td>\n",
       "      <td>71604</td>\n",
       "      <td>01/18/2022 - 05/04/2022\\rFriday\\r10:30 AM - 11...</td>\n",
       "    </tr>\n",
       "    <tr>\n",
       "      <th>10</th>\n",
       "      <td>Indian Cinema in Context</td>\n",
       "      <td>65011</td>\n",
       "      <td>01/18/2022 - 05/04/2022\\rMonday, Wednesday\\r02...</td>\n",
       "    </tr>\n",
       "    <tr>\n",
       "      <th>11</th>\n",
       "      <td>Intro to Computer Science II</td>\n",
       "      <td>71594</td>\n",
       "      <td>01/18/2022 - 05/04/2022\\rNowak, Michael</td>\n",
       "    </tr>\n",
       "  </tbody>\n",
       "</table>\n",
       "</div>"
      ],
      "text/plain": [
       "                          course     id  \\\n",
       "4            Discrete Structures  50094   \n",
       "5            Discrete Structures  51089   \n",
       "6   Statistics and Probability I  60237   \n",
       "7   Statistics and Probability I  60241   \n",
       "8    Nature and American Culture  61458   \n",
       "9   Intro to Computer Science II  71604   \n",
       "10      Indian Cinema in Context  65011   \n",
       "11  Intro to Computer Science II  71594   \n",
       "\n",
       "                              date_time_prof_location  \n",
       "4   01/18/2022 - 05/04/2022\\rTuesday, Thursday\\r12...  \n",
       "5   01/18/2022 - 05/04/2022\\rFriday\\r02:00 PM - 02...  \n",
       "6   01/18/2022 - 05/04/2022\\rMonday, Wednesday, Fr...  \n",
       "7   01/18/2022 - 05/04/2022\\rThursday\\r11:00 AM - ...  \n",
       "8   01/18/2022 - 03/11/2022\\rSantos, Carla\\rJeong,...  \n",
       "9   01/18/2022 - 05/04/2022\\rFriday\\r10:30 AM - 11...  \n",
       "10  01/18/2022 - 05/04/2022\\rMonday, Wednesday\\r02...  \n",
       "11            01/18/2022 - 05/04/2022\\rNowak, Michael  "
      ]
     },
     "execution_count": 29,
     "metadata": {},
     "output_type": "execute_result"
    }
   ],
   "source": [
    "dfs = convert_pdf_to_csv(\"schedule.pdf\")[4:-1]\n",
    "dates_times = dfs.iloc[:,[0,3,4]]\n",
    "dates_times = dates_times.rename(columns={'Unnamed: 0':'course', 'mpaign':'id', 'Unnamed: 2':'date_time_prof_location'})\n",
    "dates_times"
   ]
  },
  {
   "cell_type": "code",
   "execution_count": 35,
   "metadata": {},
   "outputs": [],
   "source": [
    "def get_info(dates_times, i):\n",
    "    return dates_times.at[i + 4 , 'date_time_prof_location']"
   ]
  },
  {
   "cell_type": "code",
   "execution_count": 36,
   "metadata": {},
   "outputs": [
    {
     "data": {
      "text/plain": [
       "'01/18/2022 - 05/04/2022\\rTuesday, Thursday\\r12:30 PM - 01:45 PM\\rUrbana-Champaign, Campus Instructional Facility, 0027/1025\\rDelgosha, Payam'"
      ]
     },
     "execution_count": 36,
     "metadata": {},
     "output_type": "execute_result"
    }
   ],
   "source": [
    "single_value = get_info(dates_times, 0)\n",
    "single_value"
   ]
  },
  {
   "cell_type": "code",
   "execution_count": null,
   "metadata": {},
   "outputs": [],
   "source": []
  }
 ],
 "metadata": {
  "kernelspec": {
   "display_name": "Python 3",
   "language": "python",
   "name": "python3"
  },
  "language_info": {
   "codemirror_mode": {
    "name": "ipython",
    "version": 3
   },
   "file_extension": ".py",
   "mimetype": "text/x-python",
   "name": "python",
   "nbconvert_exporter": "python",
   "pygments_lexer": "ipython3",
   "version": "3.8.8"
  },
  "vscode": {
   "interpreter": {
    "hash": "31f2aee4e71d21fbe5cf8b01ff0e069b9275f58929596ceb00d14d90e3e16cd6"
   }
  }
 },
 "nbformat": 4,
 "nbformat_minor": 2
}
